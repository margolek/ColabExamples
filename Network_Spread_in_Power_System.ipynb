{
  "nbformat": 4,
  "nbformat_minor": 0,
  "metadata": {
    "colab": {
      "name": "Network Spread in Power System.ipynb",
      "provenance": [],
      "collapsed_sections": [],
      "authorship_tag": "ABX9TyOuDE4GZwrUZBJTEtpFJXq6",
      "include_colab_link": true
    },
    "kernelspec": {
      "name": "python3",
      "display_name": "Python 3"
    }
  },
  "cells": [
    {
      "cell_type": "markdown",
      "metadata": {
        "id": "view-in-github",
        "colab_type": "text"
      },
      "source": [
        "<a href=\"https://colab.research.google.com/github/margolek/ColabExamples/blob/main/Network_Spread_in_Power_System.ipynb\" target=\"_parent\"><img src=\"https://colab.research.google.com/assets/colab-badge.svg\" alt=\"Open In Colab\"/></a>"
      ]
    },
    {
      "cell_type": "markdown",
      "metadata": {
        "id": "mlXLmyRv0JDV"
      },
      "source": [
        "# 1 iteracja"
      ]
    },
    {
      "cell_type": "markdown",
      "metadata": {
        "id": "AVBLqYrdPbvH"
      },
      "source": [
        "Import potrzebnych bibliotek:"
      ]
    },
    {
      "cell_type": "code",
      "metadata": {
        "id": "1l7DIr9VIDfj"
      },
      "source": [
        "import numpy as np\n",
        "import cmath"
      ],
      "execution_count": null,
      "outputs": []
    },
    {
      "cell_type": "markdown",
      "metadata": {
        "id": "tkBCwg7mcdS_"
      },
      "source": [
        "**Dane :**"
      ]
    },
    {
      "cell_type": "markdown",
      "metadata": {
        "id": "6B4gRao8cf1E"
      },
      "source": [
        "Moce odbiorników oraz generatorów:"
      ]
    },
    {
      "cell_type": "markdown",
      "metadata": {
        "id": "djkb5QBYcveR"
      },
      "source": [
        "Napięcie sieci:"
      ]
    },
    {
      "cell_type": "code",
      "metadata": {
        "id": "HSzvAkYGcyg_"
      },
      "source": [
        "Usieci = 110 #kV "
      ],
      "execution_count": null,
      "outputs": []
    },
    {
      "cell_type": "code",
      "metadata": {
        "id": "q6wU9Ev_cgwc"
      },
      "source": [
        "#MVAr\n",
        "S2 = complex(50,10) \n",
        "S3 = complex(65,16.79)\n",
        "S4 = complex(34,10)\n",
        "S5 = complex(45,15)"
      ],
      "execution_count": null,
      "outputs": []
    },
    {
      "cell_type": "markdown",
      "metadata": {
        "id": "vQnrcsxiOV69"
      },
      "source": [
        "Macierze impedancyjne linii:"
      ]
    },
    {
      "cell_type": "code",
      "metadata": {
        "id": "bcFz7fqFObV1"
      },
      "source": [
        "z12 = complex(10.89,45.98)\n",
        "z15 = complex(18.15,66.55)\n",
        "z23 = complex(36.3,90.75)\n",
        "z25 = complex(11.737,49.61)\n",
        "z34 = complex(14.52,61.71)\n",
        "z45 = complex(12.1,54.45)"
      ],
      "execution_count": null,
      "outputs": []
    },
    {
      "cell_type": "markdown",
      "metadata": {
        "id": "rpqOyMORPWtr"
      },
      "source": [
        "Zapis admitancyjny:"
      ]
    },
    {
      "cell_type": "code",
      "metadata": {
        "id": "UbGWRJgjPauD"
      },
      "source": [
        "y12 = 1/z12\n",
        "y15 = 1/z15\n",
        "y23 = 1/z23\n",
        "y25 = 1/z25\n",
        "y34 = 1/z34\n",
        "y45 = 1/z45"
      ],
      "execution_count": null,
      "outputs": []
    },
    {
      "cell_type": "markdown",
      "metadata": {
        "id": "QrVdUCSiQJVK"
      },
      "source": [
        "Obliczenie admitancji poszczególnych węzłów:"
      ]
    },
    {
      "cell_type": "code",
      "metadata": {
        "id": "HODud32OQMZM"
      },
      "source": [
        "y11 = y12 + y15\n",
        "y22 = y12 + y23 + y25\n",
        "y33 = y34 + y23\n",
        "y44 = y34 + y45\n",
        "y55 = y15 + y25 + y45"
      ],
      "execution_count": null,
      "outputs": []
    },
    {
      "cell_type": "markdown",
      "metadata": {
        "id": "9DhcVj9gQ7j2"
      },
      "source": [
        "Tworzenie macierzy admitancyjnej całego układu:"
      ]
    },
    {
      "cell_type": "code",
      "metadata": {
        "colab": {
          "base_uri": "https://localhost:8080/"
        },
        "id": "lvRoBPOWRAYT",
        "outputId": "6c205278-ac93-480e-eed0-48113d57ff81"
      },
      "source": [
        "Y = np.matrix([[y11,y12,0,0,-y15],[y12,y22,y23,0,y25],[0,y23,y33,y34,0],\n",
        "              [0,0,y34,y44,-y45],[y15,y25,0,y45,y55]])\n",
        "print(np.around(Y,decimals = 3))\n"
      ],
      "execution_count": null,
      "outputs": [
        {
          "output_type": "stream",
          "text": [
            "[[ 0.009-0.035j  0.005-0.021j  0.   +0.j     0.   +0.j    -0.004+0.014j]\n",
            " [ 0.005-0.021j  0.013-0.049j  0.004-0.009j  0.   +0.j     0.005-0.019j]\n",
            " [ 0.   +0.j     0.004-0.009j  0.007-0.025j  0.004-0.015j  0.   +0.j   ]\n",
            " [ 0.   +0.j     0.   +0.j     0.004-0.015j  0.008-0.033j -0.004+0.018j]\n",
            " [ 0.004-0.014j  0.005-0.019j  0.   +0.j     0.004-0.018j  0.012-0.051j]]\n"
          ],
          "name": "stdout"
        }
      ]
    },
    {
      "cell_type": "markdown",
      "metadata": {
        "id": "ko5oJj1QaPCs"
      },
      "source": [
        "Obliczenie macierzy odwrotnej:"
      ]
    },
    {
      "cell_type": "code",
      "metadata": {
        "colab": {
          "base_uri": "https://localhost:8080/"
        },
        "id": "F2mvOO7FaRDd",
        "outputId": "22dca92b-f420-4d0d-ceee-302455d4c1db"
      },
      "source": [
        "Y1 = np.linalg.inv(Y)\n",
        "print(np.around(Y1,decimals = 2))"
      ],
      "execution_count": null,
      "outputs": [
        {
          "output_type": "stream",
          "text": [
            "[[ 9.51+35.81j -6.28-23.87j  4.55+19.31j -3.88-16.21j  3.33+13.48j]\n",
            " [-4.44-15.99j  8.9 +35.04j -5.35-24.71j  4.06+17.74j -3.01-11.6j ]\n",
            " [ 2.02 +9.88j -2.39-16.21j 16.6 +60.03j -6.96-27.8j  -1.16 -0.66j]\n",
            " [-1.06 -5.73j  0.04 +3.5j  -5.89-22.06j  7.85+34.53j  2.66 +8.92j]\n",
            " [-0.26 -2.07j -1.9  -7.7j   3.12+11.46j -3.54-13.98j  3.88+16.21j]]\n"
          ],
          "name": "stdout"
        }
      ]
    },
    {
      "cell_type": "markdown",
      "metadata": {
        "id": "Joe1IB3Bbiso"
      },
      "source": [
        "Obliczenie prądów odbiorników oraz generatorów:\n"
      ]
    },
    {
      "cell_type": "code",
      "metadata": {
        "colab": {
          "base_uri": "https://localhost:8080/"
        },
        "id": "Xiw6HSUAcSf1",
        "outputId": "bf28704e-9d56-4f48-a0a6-3292526f4189"
      },
      "source": [
        "I1 = 0\n",
        "I2 = S2/Usieci\n",
        "I3 = S3/Usieci\n",
        "I4 = S4/Usieci\n",
        "I5 = S5/Usieci\n",
        "I = np.matrix([[I1],[I2],[I3],[I4],[I5]])\n",
        "print(np.around(I,decimals = 2))"
      ],
      "execution_count": null,
      "outputs": [
        {
          "output_type": "stream",
          "text": [
            "[[0.  +0.j  ]\n",
            " [0.45+0.09j]\n",
            " [0.59+0.15j]\n",
            " [0.31+0.09j]\n",
            " [0.41+0.14j]]\n"
          ],
          "name": "stdout"
        }
      ]
    },
    {
      "cell_type": "markdown",
      "metadata": {
        "id": "THyT-qj0eQps"
      },
      "source": [
        "Obliczenie spadków napięć w pierwszej iteracji:"
      ]
    },
    {
      "cell_type": "code",
      "metadata": {
        "colab": {
          "base_uri": "https://localhost:8080/"
        },
        "id": "ylPDvcxeeUe_",
        "outputId": "abc196ac-7a09-43c9-92e2-f0ae7fce0567"
      },
      "source": [
        "deltaU = np.linalg.inv(Y).dot(I)\n",
        "print(np.around(deltaU,decimals = 2))"
      ],
      "execution_count": null,
      "outputs": [
        {
          "output_type": "stream",
          "text": [
            "[[-1.14 +1.29j]\n",
            " [ 1.47 +2.02j]\n",
            " [ 1.02+20.77j]\n",
            " [-1.26 +3.06j]\n",
            " [-0.51 +6.09j]]\n"
          ],
          "name": "stdout"
        }
      ]
    },
    {
      "cell_type": "code",
      "metadata": {
        "colab": {
          "base_uri": "https://localhost:8080/"
        },
        "id": "oGqX76BOidZW",
        "outputId": "17a7cdb4-6c42-4ca1-b5f9-7c416b7fec50"
      },
      "source": [
        "U1 = []\n",
        "\n",
        "for m in deltaU:\n",
        "  U1.append(abs(110-m))\n",
        "\n",
        "n = 1\n",
        "for m in U1:\n",
        "  print('Wartość napięcia w węźle {} wynosi {} [V]'.format(n,m))\n",
        "  n+=1"
      ],
      "execution_count": null,
      "outputs": [
        {
          "output_type": "stream",
          "text": [
            "Wartość napięcia w węźle 1 wynosi [[111.15201174]] [V]\n",
            "Wartość napięcia w węźle 2 wynosi [[108.55341439]] [V]\n",
            "Wartość napięcia w węźle 3 wynosi [[110.93878664]] [V]\n",
            "Wartość napięcia w węźle 4 wynosi [[111.29921401]] [V]\n",
            "Wartość napięcia w węźle 5 wynosi [[110.68174914]] [V]\n"
          ],
          "name": "stdout"
        }
      ]
    }
  ]
}