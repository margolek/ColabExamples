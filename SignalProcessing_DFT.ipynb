{
  "nbformat": 4,
  "nbformat_minor": 0,
  "metadata": {
    "colab": {
      "name": "SignalProcessing_DFT.ipynb",
      "provenance": [],
      "collapsed_sections": [],
      "authorship_tag": "ABX9TyOn0FEb40fql6ADpIlrLfPF",
      "include_colab_link": true
    },
    "kernelspec": {
      "name": "python3",
      "display_name": "Python 3"
    }
  },
  "cells": [
    {
      "cell_type": "markdown",
      "metadata": {
        "id": "view-in-github",
        "colab_type": "text"
      },
      "source": [
        "<a href=\"https://colab.research.google.com/github/margolek/ColabExamples/blob/main/SignalProcessing_DFT.ipynb\" target=\"_parent\"><img src=\"https://colab.research.google.com/assets/colab-badge.svg\" alt=\"Open In Colab\"/></a>"
      ]
    },
    {
      "cell_type": "code",
      "metadata": {
        "id": "w9-BNsjzxLRn"
      },
      "source": [
        "import numpy as np\r\n",
        "import matplotlib.pyplot as plt"
      ],
      "execution_count": 16,
      "outputs": []
    },
    {
      "cell_type": "code",
      "metadata": {
        "id": "w_oLBiFe_URu"
      },
      "source": [
        "def dft(xn):\r\n",
        "  X = np.array([])\r\n",
        "\r\n",
        "  for k in range(N-1):\r\n",
        "    com = np.exp(-1j*2*np.pi*k*(np.arange(N-1))/N)\r\n",
        "    X = np.append(X,sum(xn*com))\r\n",
        "\r\n",
        "  plt.figure(1)\r\n",
        "  plt.plot(np.arange(N-1),abs(X))\r\n",
        "  plt.show()\r\n",
        "  plt.figure(2)\r\n",
        "  plt.stem(np.arange(N-1),X.imag)\r\n",
        "  plt.show()\r\n",
        "  plt.figure(3)\r\n",
        "  plt.stem(np.arange(N-1),X.real)\r\n",
        "  plt.show()\r\n",
        "\r\n",
        "\r\n",
        "N = 23\r\n",
        "m = 6\r\n",
        "x1 = np.exp(1j*2*np.pi*m*(np.arange(N-1))/N)\r\n",
        "x2 = np.exp(-1j*2*np.pi*m*(np.arange(N-1))/N)\r\n",
        "dft(x1)\r\n",
        "dft(x2)\r\n",
        "\r\n"
      ],
      "execution_count": null,
      "outputs": []
    },
    {
      "cell_type": "code",
      "metadata": {
        "id": "zDzhCvGlTq-U"
      },
      "source": [
        "#Zad 2\r\n",
        "#1)\r\n",
        "DC = 5\r\n",
        "x3 = DC + np.sin(2*np.pi/N*m*(N*np.arange(N-1)))\r\n",
        "x4 = DC + np.cos(2*np.pi/N*m*(N*np.arange(N-1)))\r\n",
        "dft(x3)\r\n",
        "dft(x4)\r\n",
        "\r\n",
        "#2)\r\n",
        "x5 = DC + np.sin(2*np.pi/N*m*(N*np.arange(N-1))+0.785)\r\n",
        "dft(x5)\r\n",
        "\r\n",
        "#3)\r\n",
        "m = 6.9\r\n",
        "x6 = np.sin(2*np.pi/N*m*(N*np.arange(N-1)))\r\n",
        "dft(x6)\r\n"
      ],
      "execution_count": null,
      "outputs": []
    }
  ]
}