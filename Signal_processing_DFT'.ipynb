{
  "nbformat": 4,
  "nbformat_minor": 0,
  "metadata": {
    "colab": {
      "name": "Untitled0.ipynb",
      "provenance": [],
      "authorship_tag": "ABX9TyOX6kE4oK/uI966fm7iFhUQ",
      "include_colab_link": true
    },
    "kernelspec": {
      "name": "python3",
      "display_name": "Python 3"
    }
  },
  "cells": [
    {
      "cell_type": "markdown",
      "metadata": {
        "id": "view-in-github",
        "colab_type": "text"
      },
      "source": [
        "<a href=\"https://colab.research.google.com/github/margolek/ColabExamples/blob/main/Signal_processing_DFT'.ipynb\" target=\"_parent\"><img src=\"https://colab.research.google.com/assets/colab-badge.svg\" alt=\"Open In Colab\"/></a>"
      ]
    },
    {
      "cell_type": "code",
      "metadata": {
        "id": "w9-BNsjzxLRn"
      },
      "source": [
        "\"\"\"DFT and FFT\"\"\"\r\n",
        "import math\r\n",
        "\r\n",
        "def iexp(n):\r\n",
        "    return complex(math.cos(n), math.sin(n))\r\n",
        "\r\n",
        "def is_pow2(n):\r\n",
        "    return False if n == 0 else (n == 1 or is_pow2(n >> 1))\r\n",
        "\r\n",
        "def dft(xs):\r\n",
        "    \"naive dft\"\r\n",
        "    n = len(xs)\r\n",
        "    return [sum((xs[k] * iexp(-2 * math.pi * i * k / n) for k in range(n)))\r\n",
        "            for i in range(n)]\r\n",
        "\r\n",
        "def dftinv(xs):\r\n",
        "    \"naive dft\"\r\n",
        "    n = len(xs)\r\n",
        "    return [sum((xs[k] * iexp(2 * math.pi * i * k / n) for k in range(n))) / n\r\n",
        "            for i in range(n)]\r\n",
        "\r\n",
        "def fft_(xs, n, start=0, stride=1):\r\n",
        "    \"cooley-turkey fft\"\r\n",
        "    if n == 1: return [xs[start]]\r\n",
        "    hn, sd = n // 2, stride * 2\r\n",
        "    rs = fft_(xs, hn, start, sd) + fft_(xs, hn, start + stride, sd)\r\n",
        "    for i in range(hn):\r\n",
        "        e = iexp(-2 * math.pi * i / n)\r\n",
        "        rs[i], rs[i + hn] = rs[i] + e * rs[i + hn], rs[i] - e * rs[i + hn]\r\n",
        "        pass\r\n",
        "    return rs\r\n",
        "\r\n",
        "def fft(xs):\r\n",
        "    assert is_pow2(len(xs))\r\n",
        "    return fft_(xs, len(xs))\r\n",
        "\r\n",
        "def fftinv_(xs, n, start=0, stride=1):\r\n",
        "    \"cooley-turkey fft\"\r\n",
        "    if n == 1: return [xs[start]]\r\n",
        "    hn, sd = n // 2, stride * 2\r\n",
        "    rs = fftinv_(xs, hn, start, sd) + fftinv_(xs, hn, start + stride, sd)\r\n",
        "    for i in range(hn):\r\n",
        "        e = iexp(2 * math.pi * i / n)\r\n",
        "        rs[i], rs[i + hn] = rs[i] + e * rs[i + hn], rs[i] - e * rs[i + hn]\r\n",
        "        pass\r\n",
        "    return rs\r\n",
        "\r\n",
        "def fftinv(xs):\r\n",
        "    assert is_pow2(len(xs))\r\n",
        "    n = len(xs)\r\n",
        "    return [v / n for v in fftinv_(xs, n)]\r\n",
        "\r\n",
        "if __name__ == \"__main__\":\r\n",
        "    wave = [0, 1, 2, 3, 3, 2, 1, 0]\r\n",
        "    dfreq = dft(wave)\r\n",
        "    ffreq = fft(wave)\r\n",
        "    dwave = dftinv(dfreq)\r\n",
        "    fwave= fftinv(ffreq)\r\n",
        "    print(dfreq)\r\n",
        "    print(ffreq)\r\n",
        "    print([v.real for v in dwave])\r\n",
        "    print([v.real for v in fwave])"
      ],
      "execution_count": null,
      "outputs": []
    }
  ]
}